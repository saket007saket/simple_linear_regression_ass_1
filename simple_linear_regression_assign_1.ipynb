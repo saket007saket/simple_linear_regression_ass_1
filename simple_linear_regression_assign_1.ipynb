{
 "cells": [
  {
   "cell_type": "markdown",
   "metadata": {},
   "source": [
    " Calories_consumed-> predict weight gained using calories consumed.\n",
    "    Do the necessary transformations for input variables for getting better R^2 value for the model prepared.\n"
   ]
  },
  {
   "cell_type": "code",
   "execution_count": 15,
   "metadata": {},
   "outputs": [],
   "source": [
    "import pandas as pd ## importing necessary libraries pandas"
   ]
  },
  {
   "cell_type": "code",
   "execution_count": 16,
   "metadata": {},
   "outputs": [],
   "source": [
    "import numpy as np"
   ]
  },
  {
   "cell_type": "code",
   "execution_count": 17,
   "metadata": {},
   "outputs": [],
   "source": [
    "import matplotlib.pyplot as plt"
   ]
  },
  {
   "cell_type": "markdown",
   "metadata": {},
   "source": [
    " reading a csv file using pandas library"
   ]
  },
  {
   "cell_type": "code",
   "execution_count": 18,
   "metadata": {},
   "outputs": [],
   "source": [
    "calories=pd.read_csv(r\"C:\\Users\\SAKET NANDAN\\Documents\\excel_R_lms\\simple linear assignment excelR\\calories_consumed.csv\")"
   ]
  },
  {
   "cell_type": "code",
   "execution_count": 19,
   "metadata": {},
   "outputs": [
    {
     "data": {
      "text/plain": [
       "Index(['Weight_gained_in_grams', 'Calories_consumed'], dtype='object')"
      ]
     },
     "execution_count": 19,
     "metadata": {},
     "output_type": "execute_result"
    }
   ],
   "source": [
    "calories.columns"
   ]
  },
  {
   "cell_type": "code",
   "execution_count": 20,
   "metadata": {},
   "outputs": [
    {
     "data": {
      "text/plain": [
       "(array([6., 2., 2., 0., 0., 1., 1., 0., 1., 1.]),\n",
       " array([  62. ,  165.8,  269.6,  373.4,  477.2,  581. ,  684.8,  788.6,\n",
       "         892.4,  996.2, 1100. ]),\n",
       " <a list of 10 Patch objects>)"
      ]
     },
     "execution_count": 20,
     "metadata": {},
     "output_type": "execute_result"
    },
    {
     "data": {
      "image/png": "[encoded data removed]",
      "text/plain": [
       "<Figure size 432x288 with 1 Axes>"
      ]
     },
     "metadata": {
      "needs_background": "light"
     },
     "output_type": "display_data"
    }
   ],
   "source": [
    "plt.hist(calories.Weight_gained_in_grams)"
   ]
  },
  {
   "cell_type": "markdown",
   "metadata": {},
   "source": [
    "by above histogram we can conclude that our data is not normalized"
   ]
  },
  {
   "cell_type": "code",
   "execution_count": 21,
   "metadata": {},
   "outputs": [
    {
     "data": {
      "text/plain": [
       "{'whiskers': [<matplotlib.lines.Line2D at 0x28001b91988>,\n",
       "  <matplotlib.lines.Line2D at 0x28004df6048>],\n",
       " 'caps': [<matplotlib.lines.Line2D at 0x28004d5a288>,\n",
       "  <matplotlib.lines.Line2D at 0x28004d55708>],\n",
       " 'boxes': [<matplotlib.lines.Line2D at 0x28004deb688>],\n",
       " 'medians': [<matplotlib.lines.Line2D at 0x28004d5dec8>],\n",
       " 'fliers': [<matplotlib.lines.Line2D at 0x28004d5d648>],\n",
       " 'means': []}"
      ]
     },
     "execution_count": 21,
     "metadata": {},
     "output_type": "execute_result"
    },
    {
     "data": {
      "image/png": "[encoded data removed]",
      "text/plain": [
       "<Figure size 432x288 with 1 Axes>"
      ]
     },
     "metadata": {
      "needs_background": "light"
     },
     "output_type": "display_data"
    }
   ],
   "source": [
    "plt.boxplot(calories.Weight_gained_in_grams,0,\"rs\",0)"
   ]
  },
  {
   "cell_type": "markdown",
   "metadata": {},
   "source": [
    "it is also shown that our data is not normalized"
   ]
  },
  {
   "cell_type": "code",
   "execution_count": 22,
   "metadata": {},
   "outputs": [
    {
     "data": {
      "text/plain": [
       "(array([3., 1., 2., 2., 1., 2., 1., 0., 1., 1.]),\n",
       " array([1400., 1650., 1900., 2150., 2400., 2650., 2900., 3150., 3400.,\n",
       "        3650., 3900.]),\n",
       " <a list of 10 Patch objects>)"
      ]
     },
     "execution_count": 22,
     "metadata": {},
     "output_type": "execute_result"
    },
    {
     "data": {
      "image/png": "[encoded data removed]",
      "text/plain": [
       "<Figure size 432x288 with 1 Axes>"
      ]
     },
     "metadata": {
      "needs_background": "light"
     },
     "output_type": "display_data"
    }
   ],
   "source": [
    "plt.hist(calories.Calories_consumed)"
   ]
  },
  {
   "cell_type": "markdown",
   "metadata": {},
   "source": [
    "it shows that calories consumed is not normal"
   ]
  },
  {
   "cell_type": "code",
   "execution_count": 23,
   "metadata": {},
   "outputs": [
    {
     "data": {
      "text/plain": [
       "{'whiskers': [<matplotlib.lines.Line2D at 0x28004cb5c88>,\n",
       "  <matplotlib.lines.Line2D at 0x28004cb5d88>],\n",
       " 'caps': [<matplotlib.lines.Line2D at 0x28004cbcf08>,\n",
       "  <matplotlib.lines.Line2D at 0x28004cbcd88>],\n",
       " 'boxes': [<matplotlib.lines.Line2D at 0x28004cb5248>],\n",
       " 'medians': [<matplotlib.lines.Line2D at 0x28004cc8bc8>],\n",
       " 'fliers': [<matplotlib.lines.Line2D at 0x28004cc8cc8>],\n",
       " 'means': []}"
      ]
     },
     "execution_count": 23,
     "metadata": {},
     "output_type": "execute_result"
    },
    {
     "data": {
      "image/png": "[encoded data removed]",
      "text/plain": [
       "<Figure size 432x288 with 1 Axes>"
      ]
     },
     "metadata": {
      "needs_background": "light"
     },
     "output_type": "display_data"
    }
   ],
   "source": [
    "plt.boxplot(calories.Calories_consumed)"
   ]
  },
  {
   "cell_type": "markdown",
   "metadata": {},
   "source": [
    "box blot also showing that calories consumed is not normalized"
   ]
  },
  {
   "cell_type": "code",
   "execution_count": 24,
   "metadata": {},
   "outputs": [
    {
     "data": {
      "text/plain": [
       "Text(0, 0.5, 'Weight_gained_in_grams')"
      ]
     },
     "execution_count": 24,
     "metadata": {},
     "output_type": "execute_result"
    },
    {
     "data": {
      "image/png": "[encoded data removed]",
      "text/plain": [
       "<Figure size 432x288 with 1 Axes>"
      ]
     },
     "metadata": {
      "needs_background": "light"
     },
     "output_type": "display_data"
    }
   ],
   "source": [
    "plt.plot(calories.Calories_consumed,calories.Weight_gained_in_grams,\"bo\");plt.xlabel(\"Calories_consumed\");plt.ylabel(\"Weight_gained_in_grams\")\n"
   ]
  },
  {
   "cell_type": "markdown",
   "metadata": {},
   "source": [
    "# For preparing linear regression model we need to import the statsmodels.formula.api"
   ]
  },
  {
   "cell_type": "code",
   "execution_count": 25,
   "metadata": {},
   "outputs": [],
   "source": [
    "import statsmodels.formula.api as smf"
   ]
  },
  {
   "cell_type": "code",
   "execution_count": 26,
   "metadata": {},
   "outputs": [],
   "source": [
    "model=smf.ols(\"Weight_gained_in_grams~Calories_consumed\",data=calories).fit()"
   ]
  },
  {
   "cell_type": "markdown",
   "metadata": {},
   "source": [
    " For getting coefficients of the varibles used in equation"
   ]
  },
  {
   "cell_type": "code",
   "execution_count": 27,
   "metadata": {},
   "outputs": [
    {
     "data": {
      "text/plain": [
       "Intercept           -625.752356\n",
       "Calories_consumed      0.420157\n",
       "dtype: float64"
      ]
     },
     "execution_count": 27,
     "metadata": {},
     "output_type": "execute_result"
    }
   ],
   "source": [
    "model.params"
   ]
  },
  {
   "cell_type": "markdown",
   "metadata": {},
   "source": [
    "P-values for the variables and R-squared value for prepared model"
   ]
  },
  {
   "cell_type": "code",
   "execution_count": 28,
   "metadata": {},
   "outputs": [
    {
     "name": "stderr",
     "output_type": "stream",
     "text": [
      "C:\\Users\\SAKET NANDAN\\Anaconda3\\lib\\site-packages\\scipy\\stats\\stats.py:1450: UserWarning: kurtosistest only valid for n>=20 ... continuing anyway, n=14\n",
      "  \"anyway, n=%i\" % int(n))\n"
     ]
    },
    {
     "data": {
      "text/html": [
       "<table class=\"simpletable\">\n",
       "<caption>OLS Regression Results</caption>\n",
       "<tr>\n",
       "  <th>Dep. Variable:</th>    <td>Weight_gained_in_grams</td> <th>  R-squared:         </th> <td>   0.897</td>\n",
       "</tr>\n",
       "<tr>\n",
       "  <th>Model:</th>                      <td>OLS</td>          <th>  Adj. R-squared:    </th> <td>   0.888</td>\n",
       "</tr>\n",
       "<tr>\n",
       "  <th>Method:</th>                <td>Least Squares</td>     <th>  F-statistic:       </th> <td>   104.3</td>\n",
       "</tr>\n",
       "<tr>\n",
       "  <th>Date:</th>                <td>Sun, 16 Feb 2020</td>    <th>  Prob (F-statistic):</th> <td>2.86e-07</td>\n",
       "</tr>\n",
       "<tr>\n",
       "  <th>Time:</th>                    <td>09:52:48</td>        <th>  Log-Likelihood:    </th> <td> -84.792</td>\n",
       "</tr>\n",
       "<tr>\n",
       "  <th>No. Observations:</th>         <td>    14</td>         <th>  AIC:               </th> <td>   173.6</td>\n",
       "</tr>\n",
       "<tr>\n",
       "  <th>Df Residuals:</th>             <td>    12</td>         <th>  BIC:               </th> <td>   174.9</td>\n",
       "</tr>\n",
       "<tr>\n",
       "  <th>Df Model:</th>                 <td>     1</td>         <th>                     </th>     <td> </td>   \n",
       "</tr>\n",
       "<tr>\n",
       "  <th>Covariance Type:</th>         <td>nonrobust</td>       <th>                     </th>     <td> </td>   \n",
       "</tr>\n",
       "</table>\n",
       "<table class=\"simpletable\">\n",
       "<tr>\n",
       "          <td></td>             <th>coef</th>     <th>std err</th>      <th>t</th>      <th>P>|t|</th>  <th>[0.025</th>    <th>0.975]</th>  \n",
       "</tr>\n",
       "<tr>\n",
       "  <th>Intercept</th>         <td> -625.7524</td> <td>  100.823</td> <td>   -6.206</td> <td> 0.000</td> <td> -845.427</td> <td> -406.078</td>\n",
       "</tr>\n",
       "<tr>\n",
       "  <th>Calories_consumed</th> <td>    0.4202</td> <td>    0.041</td> <td>   10.211</td> <td> 0.000</td> <td>    0.331</td> <td>    0.510</td>\n",
       "</tr>\n",
       "</table>\n",
       "<table class=\"simpletable\">\n",
       "<tr>\n",
       "  <th>Omnibus:</th>       <td> 3.394</td> <th>  Durbin-Watson:     </th> <td>   2.537</td>\n",
       "</tr>\n",
       "<tr>\n",
       "  <th>Prob(Omnibus):</th> <td> 0.183</td> <th>  Jarque-Bera (JB):  </th> <td>   1.227</td>\n",
       "</tr>\n",
       "<tr>\n",
       "  <th>Skew:</th>          <td>-0.203</td> <th>  Prob(JB):          </th> <td>   0.541</td>\n",
       "</tr>\n",
       "<tr>\n",
       "  <th>Kurtosis:</th>      <td> 1.608</td> <th>  Cond. No.          </th> <td>8.28e+03</td>\n",
       "</tr>\n",
       "</table><br/><br/>Warnings:<br/>[1] Standard Errors assume that the covariance matrix of the errors is correctly specified.<br/>[2] The condition number is large, 8.28e+03. This might indicate that there are<br/>strong multicollinearity or other numerical problems."
      ],
      "text/plain": [
       "<class 'statsmodels.iolib.summary.Summary'>\n",
       "\"\"\"\n",
       "                              OLS Regression Results                              \n",
       "==================================================================================\n",
       "Dep. Variable:     Weight_gained_in_grams   R-squared:                       0.897\n",
       "Model:                                OLS   Adj. R-squared:                  0.888\n",
       "Method:                     Least Squares   F-statistic:                     104.3\n",
       "Date:                    Sun, 16 Feb 2020   Prob (F-statistic):           2.86e-07\n",
       "Time:                            09:52:48   Log-Likelihood:                -84.792\n",
       "No. Observations:                      14   AIC:                             173.6\n",
       "Df Residuals:                          12   BIC:                             174.9\n",
       "Df Model:                               1                                         \n",
       "Covariance Type:                nonrobust                                         \n",
       "=====================================================================================\n",
       "                        coef    std err          t      P>|t|      [0.025      0.975]\n",
       "-------------------------------------------------------------------------------------\n",
       "Intercept          -625.7524    100.823     -6.206      0.000    -845.427    -406.078\n",
       "Calories_consumed     0.4202      0.041     10.211      0.000       0.331       0.510\n",
       "==============================================================================\n",
       "Omnibus:                        3.394   Durbin-Watson:                   2.537\n",
       "Prob(Omnibus):                  0.183   Jarque-Bera (JB):                1.227\n",
       "Skew:                          -0.203   Prob(JB):                        0.541\n",
       "Kurtosis:                       1.608   Cond. No.                     8.28e+03\n",
       "==============================================================================\n",
       "\n",
       "Warnings:\n",
       "[1] Standard Errors assume that the covariance matrix of the errors is correctly specified.\n",
       "[2] The condition number is large, 8.28e+03. This might indicate that there are\n",
       "strong multicollinearity or other numerical problems.\n",
       "\"\"\""
      ]
     },
     "execution_count": 28,
     "metadata": {},
     "output_type": "execute_result"
    }
   ],
   "source": [
    "model.summary()"
   ]
  },
  {
   "cell_type": "code",
   "execution_count": 29,
   "metadata": {},
   "outputs": [],
   "source": [
    "pred=model.predict(calories)"
   ]
  },
  {
   "cell_type": "code",
   "execution_count": 30,
   "metadata": {},
   "outputs": [
    {
     "data": {
      "text/plain": [
       "0        4.482599\n",
       "1      340.607908\n",
       "2      802.780209\n",
       "3      298.592245\n",
       "4      424.639236\n",
       "5       46.498263\n",
       "6      -37.533065\n",
       "7      172.545254\n",
       "8      550.686227\n",
       "9     1012.858527\n",
       "10      75.909227\n",
       "11     172.545254\n",
       "12     508.670563\n",
       "13     634.717554\n",
       "dtype: float64"
      ]
     },
     "execution_count": 30,
     "metadata": {},
     "output_type": "execute_result"
    }
   ],
   "source": [
    "pred"
   ]
  },
  {
   "cell_type": "code",
   "execution_count": 31,
   "metadata": {},
   "outputs": [],
   "source": [
    "#pred = model.predict(calories.iloc[:,1]) # Predicted values of Weight_gained_in_grams using the model here we are predecting \n",
    "#weight_gained_grams using calories_consumed which is first column thats why i passed [:,1]"
   ]
  },
  {
   "cell_type": "code",
   "execution_count": 32,
   "metadata": {},
   "outputs": [],
   "source": [
    "#pred=model.predict(pd.DataFrame(calories['Calories_consumed'])) #predicted values of Weight_gained_in_grams using the model\n",
    "#here we r predicting Weight_ganed_in_grams using Calories_consumed "
   ]
  },
  {
   "cell_type": "code",
   "execution_count": 33,
   "metadata": {},
   "outputs": [],
   "source": [
    "resid_error=pred-calories.Weight_gained_in_grams"
   ]
  },
  {
   "cell_type": "code",
   "execution_count": 34,
   "metadata": {
    "scrolled": true
   },
   "outputs": [
    {
     "data": {
      "text/plain": [
       "0    -103.517401\n",
       "1     140.607908\n",
       "2     -97.219791\n",
       "3      98.592245\n",
       "4     124.639236\n",
       "5     -63.501737\n",
       "6    -165.533065\n",
       "7     110.545254\n",
       "8     -49.313773\n",
       "9     -87.141473\n",
       "10    -24.090773\n",
       "11     22.545254\n",
       "12    158.670563\n",
       "13    -65.282446\n",
       "dtype: float64"
      ]
     },
     "execution_count": 34,
     "metadata": {},
     "output_type": "execute_result"
    }
   ],
   "source": [
    "resid_error"
   ]
  },
  {
   "cell_type": "code",
   "execution_count": 35,
   "metadata": {},
   "outputs": [],
   "source": [
    "rmse_model=np.sqrt(np.mean(resid_error**2))"
   ]
  },
  {
   "cell_type": "code",
   "execution_count": 36,
   "metadata": {},
   "outputs": [
    {
     "data": {
      "text/plain": [
       "103.30250194726932"
      ]
     },
     "execution_count": 36,
     "metadata": {},
     "output_type": "execute_result"
    }
   ],
   "source": [
    "rmse_model"
   ]
  },
  {
   "cell_type": "code",
   "execution_count": 37,
   "metadata": {},
   "outputs": [
    {
     "data": {
      "text/plain": [
       "0.9469910088554458"
      ]
     },
     "execution_count": 37,
     "metadata": {},
     "output_type": "execute_result"
    }
   ],
   "source": [
    "calories.Weight_gained_in_grams.corr(calories.Calories_consumed) # # correlation value between X and Y"
   ]
  },
  {
   "cell_type": "code",
   "execution_count": 38,
   "metadata": {},
   "outputs": [
    {
     "data": {
      "text/plain": [
       "array([[1.        , 0.94699101],\n",
       "       [0.94699101, 1.        ]])"
      ]
     },
     "execution_count": 38,
     "metadata": {},
     "output_type": "execute_result"
    }
   ],
   "source": [
    "np.corrcoef(calories.Weight_gained_in_grams,calories.Calories_consumed)"
   ]
  },
  {
   "cell_type": "code",
   "execution_count": 39,
   "metadata": {},
   "outputs": [
    {
     "data": {
      "text/html": [
       "<div>\n",
       "<style scoped>\n",
       "    .dataframe tbody tr th:only-of-type {\n",
       "        vertical-align: middle;\n",
       "    }\n",
       "\n",
       "    .dataframe tbody tr th {\n",
       "        vertical-align: top;\n",
       "    }\n",
       "\n",
       "    .dataframe thead th {\n",
       "        text-align: right;\n",
       "    }\n",
       "</style>\n",
       "<table border=\"1\" class=\"dataframe\">\n",
       "  <thead>\n",
       "    <tr style=\"text-align: right;\">\n",
       "      <th></th>\n",
       "      <th>0</th>\n",
       "      <th>1</th>\n",
       "    </tr>\n",
       "  </thead>\n",
       "  <tbody>\n",
       "    <tr>\n",
       "      <td>Intercept</td>\n",
       "      <td>-845.426655</td>\n",
       "      <td>-406.078057</td>\n",
       "    </tr>\n",
       "    <tr>\n",
       "      <td>Calories_consumed</td>\n",
       "      <td>0.330506</td>\n",
       "      <td>0.509807</td>\n",
       "    </tr>\n",
       "  </tbody>\n",
       "</table>\n",
       "</div>"
      ],
      "text/plain": [
       "                            0           1\n",
       "Intercept         -845.426655 -406.078057\n",
       "Calories_consumed    0.330506    0.509807"
      ]
     },
     "execution_count": 39,
     "metadata": {},
     "output_type": "execute_result"
    }
   ],
   "source": [
    "model.conf_int(0.05) # 95% confidence interval\n"
   ]
  },
  {
   "cell_type": "markdown",
   "metadata": {},
   "source": [
    " Visualization of regresion line over the scatter plot of Waist and AT\n",
    " For visualization we need to import matplotlib.pyplot"
   ]
  },
  {
   "cell_type": "code",
   "execution_count": 40,
   "metadata": {},
   "outputs": [],
   "source": [
    "import matplotlib.pylab as plt"
   ]
  },
  {
   "cell_type": "code",
   "execution_count": 41,
   "metadata": {},
   "outputs": [
    {
     "data": {
      "text/plain": [
       "Text(0, 0.5, 'Weight_gained_in_grams')"
      ]
     },
     "execution_count": 41,
     "metadata": {},
     "output_type": "execute_result"
    },
    {
     "data": {
      "image/png": "[encoded data removed]",
      "text/plain": [
       "<Figure size 432x288 with 1 Axes>"
      ]
     },
     "metadata": {
      "needs_background": "light"
     },
     "output_type": "display_data"
    }
   ],
   "source": [
    "plt.scatter(x=calories['Calories_consumed'],y=calories['Weight_gained_in_grams'],color='red');plt.plot(calories['Calories_consumed'],pred,color='black');plt.xlabel('Calories_consumed');plt.ylabel('Weight_gained_in_grams')"
   ]
  },
  {
   "cell_type": "code",
   "execution_count": 28,
   "metadata": {},
   "outputs": [
    {
     "data": {
      "text/plain": [
       "0.9469910088554457"
      ]
     },
     "execution_count": 28,
     "metadata": {},
     "output_type": "execute_result"
    }
   ],
   "source": [
    "pred.corr(calories.Weight_gained_in_grams)"
   ]
  },
  {
   "cell_type": "markdown",
   "metadata": {},
   "source": [
    " Transforming variables for accuracy"
   ]
  },
  {
   "cell_type": "code",
   "execution_count": 29,
   "metadata": {},
   "outputs": [],
   "source": [
    "model2 = smf.ols('Weight_gained_in_grams~np.log(Calories_consumed)',data=calories).fit()"
   ]
  },
  {
   "cell_type": "code",
   "execution_count": 30,
   "metadata": {},
   "outputs": [
    {
     "data": {
      "text/plain": [
       "Intercept                   -6955.650125\n",
       "np.log(Calories_consumed)     948.371723\n",
       "dtype: float64"
      ]
     },
     "execution_count": 30,
     "metadata": {},
     "output_type": "execute_result"
    }
   ],
   "source": [
    "model2.params"
   ]
  },
  {
   "cell_type": "code",
   "execution_count": 31,
   "metadata": {},
   "outputs": [
    {
     "data": {
      "text/html": [
       "<table class=\"simpletable\">\n",
       "<caption>OLS Regression Results</caption>\n",
       "<tr>\n",
       "  <th>Dep. Variable:</th>    <td>Weight_gained_in_grams</td> <th>  R-squared:         </th> <td>   0.808</td>\n",
       "</tr>\n",
       "<tr>\n",
       "  <th>Model:</th>                      <td>OLS</td>          <th>  Adj. R-squared:    </th> <td>   0.792</td>\n",
       "</tr>\n",
       "<tr>\n",
       "  <th>Method:</th>                <td>Least Squares</td>     <th>  F-statistic:       </th> <td>   50.40</td>\n",
       "</tr>\n",
       "<tr>\n",
       "  <th>Date:</th>                <td>Sat, 15 Feb 2020</td>    <th>  Prob (F-statistic):</th> <td>1.25e-05</td>\n",
       "</tr>\n",
       "<tr>\n",
       "  <th>Time:</th>                    <td>21:35:05</td>        <th>  Log-Likelihood:    </th> <td> -89.148</td>\n",
       "</tr>\n",
       "<tr>\n",
       "  <th>No. Observations:</th>         <td>    14</td>         <th>  AIC:               </th> <td>   182.3</td>\n",
       "</tr>\n",
       "<tr>\n",
       "  <th>Df Residuals:</th>             <td>    12</td>         <th>  BIC:               </th> <td>   183.6</td>\n",
       "</tr>\n",
       "<tr>\n",
       "  <th>Df Model:</th>                 <td>     1</td>         <th>                     </th>     <td> </td>   \n",
       "</tr>\n",
       "<tr>\n",
       "  <th>Covariance Type:</th>         <td>nonrobust</td>       <th>                     </th>     <td> </td>   \n",
       "</tr>\n",
       "</table>\n",
       "<table class=\"simpletable\">\n",
       "<tr>\n",
       "              <td></td>                 <th>coef</th>     <th>std err</th>      <th>t</th>      <th>P>|t|</th>  <th>[0.025</th>    <th>0.975]</th>  \n",
       "</tr>\n",
       "<tr>\n",
       "  <th>Intercept</th>                 <td>-6955.6501</td> <td> 1030.908</td> <td>   -6.747</td> <td> 0.000</td> <td>-9201.806</td> <td>-4709.494</td>\n",
       "</tr>\n",
       "<tr>\n",
       "  <th>np.log(Calories_consumed)</th> <td>  948.3717</td> <td>  133.580</td> <td>    7.100</td> <td> 0.000</td> <td>  657.325</td> <td> 1239.418</td>\n",
       "</tr>\n",
       "</table>\n",
       "<table class=\"simpletable\">\n",
       "<tr>\n",
       "  <th>Omnibus:</th>       <td> 3.265</td> <th>  Durbin-Watson:     </th> <td>   2.438</td>\n",
       "</tr>\n",
       "<tr>\n",
       "  <th>Prob(Omnibus):</th> <td> 0.195</td> <th>  Jarque-Bera (JB):  </th> <td>   1.139</td>\n",
       "</tr>\n",
       "<tr>\n",
       "  <th>Skew:</th>          <td> 0.046</td> <th>  Prob(JB):          </th> <td>   0.566</td>\n",
       "</tr>\n",
       "<tr>\n",
       "  <th>Kurtosis:</th>      <td> 1.606</td> <th>  Cond. No.          </th> <td>    199.</td>\n",
       "</tr>\n",
       "</table><br/><br/>Warnings:<br/>[1] Standard Errors assume that the covariance matrix of the errors is correctly specified."
      ],
      "text/plain": [
       "<class 'statsmodels.iolib.summary.Summary'>\n",
       "\"\"\"\n",
       "                              OLS Regression Results                              \n",
       "==================================================================================\n",
       "Dep. Variable:     Weight_gained_in_grams   R-squared:                       0.808\n",
       "Model:                                OLS   Adj. R-squared:                  0.792\n",
       "Method:                     Least Squares   F-statistic:                     50.40\n",
       "Date:                    Sat, 15 Feb 2020   Prob (F-statistic):           1.25e-05\n",
       "Time:                            21:35:05   Log-Likelihood:                -89.148\n",
       "No. Observations:                      14   AIC:                             182.3\n",
       "Df Residuals:                          12   BIC:                             183.6\n",
       "Df Model:                               1                                         \n",
       "Covariance Type:                nonrobust                                         \n",
       "=============================================================================================\n",
       "                                coef    std err          t      P>|t|      [0.025      0.975]\n",
       "---------------------------------------------------------------------------------------------\n",
       "Intercept                 -6955.6501   1030.908     -6.747      0.000   -9201.806   -4709.494\n",
       "np.log(Calories_consumed)   948.3717    133.580      7.100      0.000     657.325    1239.418\n",
       "==============================================================================\n",
       "Omnibus:                        3.265   Durbin-Watson:                   2.438\n",
       "Prob(Omnibus):                  0.195   Jarque-Bera (JB):                1.139\n",
       "Skew:                           0.046   Prob(JB):                        0.566\n",
       "Kurtosis:                       1.606   Cond. No.                         199.\n",
       "==============================================================================\n",
       "\n",
       "Warnings:\n",
       "[1] Standard Errors assume that the covariance matrix of the errors is correctly specified.\n",
       "\"\"\""
      ]
     },
     "execution_count": 31,
     "metadata": {},
     "output_type": "execute_result"
    }
   ],
   "source": [
    "model2.summary()"
   ]
  },
  {
   "cell_type": "code",
   "execution_count": 32,
   "metadata": {},
   "outputs": [],
   "source": [
    "pred2 = model2.predict(calories)"
   ]
  },
  {
   "cell_type": "code",
   "execution_count": 33,
   "metadata": {},
   "outputs": [],
   "source": [
    "#pred2=model2.predict(pd.DataFrame(calories['Calories_consumed']))"
   ]
  },
  {
   "cell_type": "code",
   "execution_count": 34,
   "metadata": {},
   "outputs": [],
   "source": [
    "#pred=model2.predict(calories.iloc[:,1])"
   ]
  },
  {
   "cell_type": "code",
   "execution_count": 35,
   "metadata": {},
   "outputs": [
    {
     "data": {
      "text/plain": [
       "0     -19.998702\n",
       "1     385.377115\n",
       "2     756.063670\n",
       "3     343.220320\n",
       "4     464.453875\n",
       "5      41.207806\n",
       "6     -85.429591\n",
       "7     204.185731\n",
       "8     571.931596\n",
       "9     886.181334\n",
       "10     81.817081\n",
       "11    204.185731\n",
       "12    537.441550\n",
       "13    637.362484\n",
       "dtype: float64"
      ]
     },
     "execution_count": 35,
     "metadata": {},
     "output_type": "execute_result"
    }
   ],
   "source": [
    "pred2"
   ]
  },
  {
   "cell_type": "code",
   "execution_count": 36,
   "metadata": {},
   "outputs": [],
   "source": [
    "resid_error2=pred2-calories['Weight_gained_in_grams']"
   ]
  },
  {
   "cell_type": "code",
   "execution_count": 37,
   "metadata": {},
   "outputs": [],
   "source": [
    "rmse_model2=np.sqrt(np.mean(resid_error2**2))"
   ]
  },
  {
   "cell_type": "code",
   "execution_count": 38,
   "metadata": {},
   "outputs": [
    {
     "data": {
      "text/plain": [
       "141.0053816942511"
      ]
     },
     "execution_count": 38,
     "metadata": {},
     "output_type": "execute_result"
    }
   ],
   "source": [
    "rmse_model2"
   ]
  },
  {
   "cell_type": "code",
   "execution_count": 39,
   "metadata": {},
   "outputs": [
    {
     "data": {
      "text/plain": [
       "0.8987252805287712"
      ]
     },
     "execution_count": 39,
     "metadata": {},
     "output_type": "execute_result"
    }
   ],
   "source": [
    "pred2.corr(calories.Weight_gained_in_grams)"
   ]
  },
  {
   "cell_type": "markdown",
   "metadata": {},
   "source": [
    "its less than model1"
   ]
  },
  {
   "cell_type": "code",
   "execution_count": 40,
   "metadata": {},
   "outputs": [
    {
     "data": {
      "text/plain": [
       "Text(0, 0.5, 'Weight_gained_in_grams')"
      ]
     },
     "execution_count": 40,
     "metadata": {},
     "output_type": "execute_result"
    },
    {
     "data": {
      "image/png": "[encoded data removed]",
      "text/plain": [
       "<Figure size 432x288 with 1 Axes>"
      ]
     },
     "metadata": {
      "needs_background": "light"
     },
     "output_type": "display_data"
    }
   ],
   "source": [
    "plt.scatter(x=calories['Calories_consumed'],y=calories['Weight_gained_in_grams'],color='red');plt.plot(calories['Calories_consumed'],pred2,color='black');plt.xlabel('Calories_consumed');plt.ylabel('Weight_gained_in_grams')"
   ]
  },
  {
   "cell_type": "markdown",
   "metadata": {},
   "source": [
    "now we will develop Exponential transformation"
   ]
  },
  {
   "cell_type": "code",
   "execution_count": 41,
   "metadata": {},
   "outputs": [],
   "source": [
    "model3 = smf.ols('np.log(Weight_gained_in_grams)~Calories_consumed',data=calories).fit()"
   ]
  },
  {
   "cell_type": "code",
   "execution_count": 42,
   "metadata": {},
   "outputs": [
    {
     "data": {
      "text/plain": [
       "Intercept            2.838672\n",
       "Calories_consumed    0.001134\n",
       "dtype: float64"
      ]
     },
     "execution_count": 42,
     "metadata": {},
     "output_type": "execute_result"
    }
   ],
   "source": [
    "model3.params"
   ]
  },
  {
   "cell_type": "code",
   "execution_count": 43,
   "metadata": {},
   "outputs": [
    {
     "data": {
      "text/html": [
       "<table class=\"simpletable\">\n",
       "<caption>OLS Regression Results</caption>\n",
       "<tr>\n",
       "  <th>Dep. Variable:</th>    <td>np.log(Weight_gained_in_grams)</td> <th>  R-squared:         </th> <td>   0.878</td>\n",
       "</tr>\n",
       "<tr>\n",
       "  <th>Model:</th>                          <td>OLS</td>              <th>  Adj. R-squared:    </th> <td>   0.867</td>\n",
       "</tr>\n",
       "<tr>\n",
       "  <th>Method:</th>                    <td>Least Squares</td>         <th>  F-statistic:       </th> <td>   86.04</td>\n",
       "</tr>\n",
       "<tr>\n",
       "  <th>Date:</th>                    <td>Sat, 15 Feb 2020</td>        <th>  Prob (F-statistic):</th> <td>8.02e-07</td>\n",
       "</tr>\n",
       "<tr>\n",
       "  <th>Time:</th>                        <td>21:36:51</td>            <th>  Log-Likelihood:    </th> <td> -3.3244</td>\n",
       "</tr>\n",
       "<tr>\n",
       "  <th>No. Observations:</th>             <td>    14</td>             <th>  AIC:               </th> <td>   10.65</td>\n",
       "</tr>\n",
       "<tr>\n",
       "  <th>Df Residuals:</th>                 <td>    12</td>             <th>  BIC:               </th> <td>   11.93</td>\n",
       "</tr>\n",
       "<tr>\n",
       "  <th>Df Model:</th>                     <td>     1</td>             <th>                     </th>     <td> </td>   \n",
       "</tr>\n",
       "<tr>\n",
       "  <th>Covariance Type:</th>             <td>nonrobust</td>           <th>                     </th>     <td> </td>   \n",
       "</tr>\n",
       "</table>\n",
       "<table class=\"simpletable\">\n",
       "<tr>\n",
       "          <td></td>             <th>coef</th>     <th>std err</th>      <th>t</th>      <th>P>|t|</th>  <th>[0.025</th>    <th>0.975]</th>  \n",
       "</tr>\n",
       "<tr>\n",
       "  <th>Intercept</th>         <td>    2.8387</td> <td>    0.299</td> <td>    9.479</td> <td> 0.000</td> <td>    2.186</td> <td>    3.491</td>\n",
       "</tr>\n",
       "<tr>\n",
       "  <th>Calories_consumed</th> <td>    0.0011</td> <td>    0.000</td> <td>    9.276</td> <td> 0.000</td> <td>    0.001</td> <td>    0.001</td>\n",
       "</tr>\n",
       "</table>\n",
       "<table class=\"simpletable\">\n",
       "<tr>\n",
       "  <th>Omnibus:</th>       <td>10.165</td> <th>  Durbin-Watson:     </th> <td>   3.130</td>\n",
       "</tr>\n",
       "<tr>\n",
       "  <th>Prob(Omnibus):</th> <td> 0.006</td> <th>  Jarque-Bera (JB):  </th> <td>   6.120</td>\n",
       "</tr>\n",
       "<tr>\n",
       "  <th>Skew:</th>          <td>-1.240</td> <th>  Prob(JB):          </th> <td>  0.0469</td>\n",
       "</tr>\n",
       "<tr>\n",
       "  <th>Kurtosis:</th>      <td> 5.083</td> <th>  Cond. No.          </th> <td>8.28e+03</td>\n",
       "</tr>\n",
       "</table><br/><br/>Warnings:<br/>[1] Standard Errors assume that the covariance matrix of the errors is correctly specified.<br/>[2] The condition number is large, 8.28e+03. This might indicate that there are<br/>strong multicollinearity or other numerical problems."
      ],
      "text/plain": [
       "<class 'statsmodels.iolib.summary.Summary'>\n",
       "\"\"\"\n",
       "                                  OLS Regression Results                                  \n",
       "==========================================================================================\n",
       "Dep. Variable:     np.log(Weight_gained_in_grams)   R-squared:                       0.878\n",
       "Model:                                        OLS   Adj. R-squared:                  0.867\n",
       "Method:                             Least Squares   F-statistic:                     86.04\n",
       "Date:                            Sat, 15 Feb 2020   Prob (F-statistic):           8.02e-07\n",
       "Time:                                    21:36:51   Log-Likelihood:                -3.3244\n",
       "No. Observations:                              14   AIC:                             10.65\n",
       "Df Residuals:                                  12   BIC:                             11.93\n",
       "Df Model:                                       1                                         \n",
       "Covariance Type:                        nonrobust                                         \n",
       "=====================================================================================\n",
       "                        coef    std err          t      P>|t|      [0.025      0.975]\n",
       "-------------------------------------------------------------------------------------\n",
       "Intercept             2.8387      0.299      9.479      0.000       2.186       3.491\n",
       "Calories_consumed     0.0011      0.000      9.276      0.000       0.001       0.001\n",
       "==============================================================================\n",
       "Omnibus:                       10.165   Durbin-Watson:                   3.130\n",
       "Prob(Omnibus):                  0.006   Jarque-Bera (JB):                6.120\n",
       "Skew:                          -1.240   Prob(JB):                       0.0469\n",
       "Kurtosis:                       5.083   Cond. No.                     8.28e+03\n",
       "==============================================================================\n",
       "\n",
       "Warnings:\n",
       "[1] Standard Errors assume that the covariance matrix of the errors is correctly specified.\n",
       "[2] The condition number is large, 8.28e+03. This might indicate that there are\n",
       "strong multicollinearity or other numerical problems.\n",
       "\"\"\""
      ]
     },
     "execution_count": 43,
     "metadata": {},
     "output_type": "execute_result"
    }
   ],
   "source": [
    "model3.summary() #its r-sq value is less than model"
   ]
  },
  {
   "cell_type": "code",
   "execution_count": 44,
   "metadata": {},
   "outputs": [
    {
     "name": "stdout",
     "output_type": "stream",
     "text": [
      "                          0         1\n",
      "Intercept          1.923966  3.753379\n",
      "Calories_consumed  0.000760  0.001507\n"
     ]
    }
   ],
   "source": [
    "print(model3.conf_int(0.01)) # 99% confidence level"
   ]
  },
  {
   "cell_type": "code",
   "execution_count": 45,
   "metadata": {},
   "outputs": [],
   "source": [
    "pred_log = model3.predict(pd.DataFrame(calories['Calories_consumed']))"
   ]
  },
  {
   "cell_type": "code",
   "execution_count": 46,
   "metadata": {},
   "outputs": [],
   "source": [
    "#pred_log= model3.predict(calories.iloc[:,1])"
   ]
  },
  {
   "cell_type": "code",
   "execution_count": 47,
   "metadata": {},
   "outputs": [],
   "source": [
    "#pred_log=model3.predict(calories)"
   ]
  },
  {
   "cell_type": "code",
   "execution_count": 48,
   "metadata": {},
   "outputs": [
    {
     "data": {
      "text/plain": [
       "0     4.539069\n",
       "1     5.445947\n",
       "2     6.692904\n",
       "3     5.332587\n",
       "4     5.672666\n",
       "5     4.652428\n",
       "6     4.425709\n",
       "7     4.992508\n",
       "8     6.012745\n",
       "9     7.259702\n",
       "10    4.731780\n",
       "11    4.992508\n",
       "12    5.899386\n",
       "13    6.239465\n",
       "dtype: float64"
      ]
     },
     "execution_count": 48,
     "metadata": {},
     "output_type": "execute_result"
    }
   ],
   "source": [
    "pred_log"
   ]
  },
  {
   "cell_type": "code",
   "execution_count": 49,
   "metadata": {},
   "outputs": [],
   "source": [
    "pred3=np.exp(pred_log)  # as we have used log(Weight_gained_in_grams) in preparing model so we need to convert it back"
   ]
  },
  {
   "cell_type": "code",
   "execution_count": 50,
   "metadata": {},
   "outputs": [
    {
     "data": {
      "text/plain": [
       "0       93.603577\n",
       "1      231.816603\n",
       "2      806.661188\n",
       "3      206.972681\n",
       "4      290.808810\n",
       "5      104.839263\n",
       "6       83.572027\n",
       "7      147.305340\n",
       "8      408.603511\n",
       "9     1421.833419\n",
       "10     113.497427\n",
       "11     147.305340\n",
       "12     364.813232\n",
       "13     512.584083\n",
       "dtype: float64"
      ]
     },
     "execution_count": 50,
     "metadata": {},
     "output_type": "execute_result"
    }
   ],
   "source": [
    "pred3"
   ]
  },
  {
   "cell_type": "code",
   "execution_count": 51,
   "metadata": {},
   "outputs": [
    {
     "data": {
      "text/plain": [
       "0.9437992041960713"
      ]
     },
     "execution_count": 51,
     "metadata": {},
     "output_type": "execute_result"
    }
   ],
   "source": [
    "pred3.corr(calories.Weight_gained_in_grams)"
   ]
  },
  {
   "cell_type": "code",
   "execution_count": 52,
   "metadata": {},
   "outputs": [
    {
     "data": {
      "text/plain": [
       "Text(0, 0.5, 'Weight_gained_in_grams')"
      ]
     },
     "execution_count": 52,
     "metadata": {},
     "output_type": "execute_result"
    },
    {
     "data": {
      "image/png": "[encoded data removed]",
      "text/plain": [
       "<Figure size 432x288 with 1 Axes>"
      ]
     },
     "metadata": {
      "needs_background": "light"
     },
     "output_type": "display_data"
    }
   ],
   "source": [
    "plt.scatter(x=calories['Calories_consumed'],y=calories['Weight_gained_in_grams'],color='red');plt.plot(calories['Calories_consumed'],pred3,color='black');plt.xlabel('Calories_consumed');plt.ylabel('Weight_gained_in_grams')"
   ]
  },
  {
   "cell_type": "code",
   "execution_count": 53,
   "metadata": {},
   "outputs": [],
   "source": [
    "resid_model3 = pred3-calories.Weight_gained_in_grams"
   ]
  },
  {
   "cell_type": "code",
   "execution_count": 54,
   "metadata": {},
   "outputs": [],
   "source": [
    "rmse_model3=np.sqrt(np.mean(resid_model3**2))"
   ]
  },
  {
   "cell_type": "code",
   "execution_count": 55,
   "metadata": {},
   "outputs": [
    {
     "data": {
      "text/plain": [
       "118.04515720118025"
      ]
     },
     "execution_count": 55,
     "metadata": {},
     "output_type": "execute_result"
    }
   ],
   "source": [
    "rmse_model3"
   ]
  },
  {
   "cell_type": "markdown",
   "metadata": {},
   "source": [
    "aboves are the errors calculated from actual to predicted"
   ]
  },
  {
   "cell_type": "code",
   "execution_count": 56,
   "metadata": {},
   "outputs": [],
   "source": [
    "#Quadratic model\n",
    "\n",
    "calories[\"Calories_consumed_sq\"] = calories.Calories_consumed*calories.Calories_consumed"
   ]
  },
  {
   "cell_type": "code",
   "execution_count": 57,
   "metadata": {},
   "outputs": [
    {
     "name": "stdout",
     "output_type": "stream",
     "text": [
      "    Weight_gained_in_grams  Calories_consumed  Calories_consumed_sq\n",
      "0                      108               1500               2250000\n",
      "1                      200               2300               5290000\n",
      "2                      900               3400              11560000\n",
      "3                      200               2200               4840000\n",
      "4                      300               2500               6250000\n",
      "5                      110               1600               2560000\n",
      "6                      128               1400               1960000\n",
      "7                       62               1900               3610000\n",
      "8                      600               2800               7840000\n",
      "9                     1100               3900              15210000\n",
      "10                     100               1670               2788900\n",
      "11                     150               1900               3610000\n",
      "12                     350               2700               7290000\n",
      "13                     700               3000               9000000\n"
     ]
    }
   ],
   "source": [
    "print(calories)"
   ]
  },
  {
   "cell_type": "code",
   "execution_count": 58,
   "metadata": {},
   "outputs": [],
   "source": [
    "model_quad = smf.ols(\"Weight_gained_in_grams~(Calories_consumed+Calories_consumed_sq)\",data=calories).fit()"
   ]
  },
  {
   "cell_type": "code",
   "execution_count": 59,
   "metadata": {},
   "outputs": [
    {
     "data": {
      "text/plain": [
       "Intercept               203.258458\n",
       "Calories_consumed        -0.291894\n",
       "Calories_consumed_sq      0.000140\n",
       "dtype: float64"
      ]
     },
     "execution_count": 59,
     "metadata": {},
     "output_type": "execute_result"
    }
   ],
   "source": [
    "model_quad.params"
   ]
  },
  {
   "cell_type": "code",
   "execution_count": 60,
   "metadata": {},
   "outputs": [
    {
     "data": {
      "text/html": [
       "<table class=\"simpletable\">\n",
       "<caption>OLS Regression Results</caption>\n",
       "<tr>\n",
       "  <th>Dep. Variable:</th>    <td>Weight_gained_in_grams</td> <th>  R-squared:         </th> <td>   0.952</td>\n",
       "</tr>\n",
       "<tr>\n",
       "  <th>Model:</th>                      <td>OLS</td>          <th>  Adj. R-squared:    </th> <td>   0.943</td>\n",
       "</tr>\n",
       "<tr>\n",
       "  <th>Method:</th>                <td>Least Squares</td>     <th>  F-statistic:       </th> <td>   109.2</td>\n",
       "</tr>\n",
       "<tr>\n",
       "  <th>Date:</th>                <td>Sat, 15 Feb 2020</td>    <th>  Prob (F-statistic):</th> <td>5.55e-08</td>\n",
       "</tr>\n",
       "<tr>\n",
       "  <th>Time:</th>                    <td>21:37:22</td>        <th>  Log-Likelihood:    </th> <td> -79.425</td>\n",
       "</tr>\n",
       "<tr>\n",
       "  <th>No. Observations:</th>         <td>    14</td>         <th>  AIC:               </th> <td>   164.9</td>\n",
       "</tr>\n",
       "<tr>\n",
       "  <th>Df Residuals:</th>             <td>    11</td>         <th>  BIC:               </th> <td>   166.8</td>\n",
       "</tr>\n",
       "<tr>\n",
       "  <th>Df Model:</th>                 <td>     2</td>         <th>                     </th>     <td> </td>   \n",
       "</tr>\n",
       "<tr>\n",
       "  <th>Covariance Type:</th>         <td>nonrobust</td>       <th>                     </th>     <td> </td>   \n",
       "</tr>\n",
       "</table>\n",
       "<table class=\"simpletable\">\n",
       "<tr>\n",
       "            <td></td>              <th>coef</th>     <th>std err</th>      <th>t</th>      <th>P>|t|</th>  <th>[0.025</th>    <th>0.975]</th>  \n",
       "</tr>\n",
       "<tr>\n",
       "  <th>Intercept</th>            <td>  203.2585</td> <td>  243.624</td> <td>    0.834</td> <td> 0.422</td> <td> -332.955</td> <td>  739.472</td>\n",
       "</tr>\n",
       "<tr>\n",
       "  <th>Calories_consumed</th>    <td>   -0.2919</td> <td>    0.202</td> <td>   -1.444</td> <td> 0.177</td> <td>   -0.737</td> <td>    0.153</td>\n",
       "</tr>\n",
       "<tr>\n",
       "  <th>Calories_consumed_sq</th> <td>    0.0001</td> <td> 3.92e-05</td> <td>    3.561</td> <td> 0.004</td> <td> 5.33e-05</td> <td>    0.000</td>\n",
       "</tr>\n",
       "</table>\n",
       "<table class=\"simpletable\">\n",
       "<tr>\n",
       "  <th>Omnibus:</th>       <td> 1.621</td> <th>  Durbin-Watson:     </th> <td>   3.058</td>\n",
       "</tr>\n",
       "<tr>\n",
       "  <th>Prob(Omnibus):</th> <td> 0.445</td> <th>  Jarque-Bera (JB):  </th> <td>   0.996</td>\n",
       "</tr>\n",
       "<tr>\n",
       "  <th>Skew:</th>          <td> 0.324</td> <th>  Prob(JB):          </th> <td>   0.608</td>\n",
       "</tr>\n",
       "<tr>\n",
       "  <th>Kurtosis:</th>      <td> 1.865</td> <th>  Cond. No.          </th> <td>8.12e+07</td>\n",
       "</tr>\n",
       "</table><br/><br/>Warnings:<br/>[1] Standard Errors assume that the covariance matrix of the errors is correctly specified.<br/>[2] The condition number is large, 8.12e+07. This might indicate that there are<br/>strong multicollinearity or other numerical problems."
      ],
      "text/plain": [
       "<class 'statsmodels.iolib.summary.Summary'>\n",
       "\"\"\"\n",
       "                              OLS Regression Results                              \n",
       "==================================================================================\n",
       "Dep. Variable:     Weight_gained_in_grams   R-squared:                       0.952\n",
       "Model:                                OLS   Adj. R-squared:                  0.943\n",
       "Method:                     Least Squares   F-statistic:                     109.2\n",
       "Date:                    Sat, 15 Feb 2020   Prob (F-statistic):           5.55e-08\n",
       "Time:                            21:37:22   Log-Likelihood:                -79.425\n",
       "No. Observations:                      14   AIC:                             164.9\n",
       "Df Residuals:                          11   BIC:                             166.8\n",
       "Df Model:                               2                                         \n",
       "Covariance Type:                nonrobust                                         \n",
       "========================================================================================\n",
       "                           coef    std err          t      P>|t|      [0.025      0.975]\n",
       "----------------------------------------------------------------------------------------\n",
       "Intercept              203.2585    243.624      0.834      0.422    -332.955     739.472\n",
       "Calories_consumed       -0.2919      0.202     -1.444      0.177      -0.737       0.153\n",
       "Calories_consumed_sq     0.0001   3.92e-05      3.561      0.004    5.33e-05       0.000\n",
       "==============================================================================\n",
       "Omnibus:                        1.621   Durbin-Watson:                   3.058\n",
       "Prob(Omnibus):                  0.445   Jarque-Bera (JB):                0.996\n",
       "Skew:                           0.324   Prob(JB):                        0.608\n",
       "Kurtosis:                       1.865   Cond. No.                     8.12e+07\n",
       "==============================================================================\n",
       "\n",
       "Warnings:\n",
       "[1] Standard Errors assume that the covariance matrix of the errors is correctly specified.\n",
       "[2] The condition number is large, 8.12e+07. This might indicate that there are\n",
       "strong multicollinearity or other numerical problems.\n",
       "\"\"\""
      ]
     },
     "execution_count": 60,
     "metadata": {},
     "output_type": "execute_result"
    }
   ],
   "source": [
    "model_quad.summary()"
   ]
  },
  {
   "cell_type": "code",
   "execution_count": 61,
   "metadata": {},
   "outputs": [],
   "source": [
    "pred_quad = model_quad.predict(calories)"
   ]
  },
  {
   "cell_type": "code",
   "execution_count": 62,
   "metadata": {},
   "outputs": [],
   "source": [
    "#pred_quad = model_quad.predict(calories.iloc[:,1:3])"
   ]
  },
  {
   "cell_type": "code",
   "execution_count": 63,
   "metadata": {},
   "outputs": [
    {
     "data": {
      "text/plain": [
       "0       79.333455\n",
       "1      269.953635\n",
       "2      823.649454\n",
       "3      236.359838\n",
       "4      345.512323\n",
       "5       93.394702\n",
       "6       68.062571\n",
       "7      152.320630\n",
       "8      479.778088\n",
       "9     1186.943943\n",
       "10     104.897842\n",
       "11     152.320630\n",
       "12     432.232469\n",
       "13     583.240419\n",
       "dtype: float64"
      ]
     },
     "execution_count": 63,
     "metadata": {},
     "output_type": "execute_result"
    }
   ],
   "source": [
    "pred_quad"
   ]
  },
  {
   "cell_type": "code",
   "execution_count": 64,
   "metadata": {},
   "outputs": [],
   "source": [
    "resid_error_model_quad=pred_quad-calories['Weight_gained_in_grams']"
   ]
  },
  {
   "cell_type": "code",
   "execution_count": 65,
   "metadata": {},
   "outputs": [],
   "source": [
    "rmse_model_quad=np.sqrt(np.mean(resid_error_model_quad**2))"
   ]
  },
  {
   "cell_type": "code",
   "execution_count": 66,
   "metadata": {},
   "outputs": [
    {
     "data": {
      "text/plain": [
       "70.40751529831556"
      ]
     },
     "execution_count": 66,
     "metadata": {},
     "output_type": "execute_result"
    }
   ],
   "source": [
    "rmse_model_quad"
   ]
  },
  {
   "cell_type": "code",
   "execution_count": 67,
   "metadata": {},
   "outputs": [],
   "source": [
    "#                    r_sq      adj_r_sq     Aic     p_value             Rmse_value\n",
    "#model               0.897     0.888        173     0.331               103.30\n",
    "#model2              0.808     0.792        183     0.000               141.005\n",
    "#model3              0.878     0.867        10.65   0.000               118.045\n",
    "#model_quad          0.952     0.943        164.9   x=0.177,x^2=0.004   70.4075"
   ]
  },
  {
   "cell_type": "markdown",
   "metadata": {},
   "source": [
    "so from abobe we can conclude that our best model model3 or model_quad are good so we can will go for rmse_value in \n",
    "which model_quad have small value"
   ]
  },
  {
   "cell_type": "code",
   "execution_count": 68,
   "metadata": {},
   "outputs": [],
   "source": [
    "student_resid = model_quad.resid_pearson "
   ]
  },
  {
   "cell_type": "code",
   "execution_count": 69,
   "metadata": {},
   "outputs": [
    {
     "data": {
      "text/plain": [
       "array([ 0.36090148, -0.88069107,  0.96122588, -0.45775726, -0.57298376,\n",
       "        0.20905472,  0.75459064, -1.13710421,  1.51355057, -1.09459293,\n",
       "       -0.06166207, -0.0292159 , -1.03527717,  1.46996107])"
      ]
     },
     "execution_count": 69,
     "metadata": {},
     "output_type": "execute_result"
    }
   ],
   "source": [
    "student_resid"
   ]
  },
  {
   "cell_type": "code",
   "execution_count": 79,
   "metadata": {},
   "outputs": [
    {
     "data": {
      "text/plain": [
       "Text(0, 0.5, 'Standardized Residual')"
      ]
     },
     "execution_count": 79,
     "metadata": {},
     "output_type": "execute_result"
    },
    {
     "data": {
      "image/png": "[encoded data removed]",
      "text/plain": [
       "<Figure size 432x288 with 1 Axes>"
      ]
     },
     "metadata": {
      "needs_background": "light"
     },
     "output_type": "display_data"
    }
   ],
   "source": [
    "plt.plot(model_quad.resid_pearson,'o');plt.axhline(y=0,color='green');plt.xlabel(\"Observation Number\");plt.ylabel(\"Standardized Residual\")"
   ]
  },
  {
   "cell_type": "markdown",
   "metadata": {},
   "source": [
    "in above graph if garph of standardized error is constant with observatin number is constant .so,on increasing no of observation our residual error will be constant so model_quad is fine according to our above graph"
   ]
  },
  {
   "cell_type": "code",
   "execution_count": 83,
   "metadata": {},
   "outputs": [
    {
     "data": {
      "text/plain": [
       "Text(0, 0.5, 'Actual')"
      ]
     },
     "execution_count": 83,
     "metadata": {},
     "output_type": "execute_result"
    },
    {
     "data": {
      "image/png": "[encoded data removed]",
      "text/plain": [
       "<Figure size 432x288 with 1 Axes>"
      ]
     },
     "metadata": {
      "needs_background": "light"
     },
     "output_type": "display_data"
    }
   ],
   "source": [
    "# Predicted vs actual values\n",
    "plt.scatter(x=pred_quad,y=calories.Weight_gained_in_grams);plt.xlabel(\"Predicted\");plt.ylabel(\"Actual\")"
   ]
  },
  {
   "cell_type": "markdown",
   "metadata": {},
   "source": [
    "in above graph prediction versus actual is linear graph so it shows that prediction which we have done is very good"
   ]
  },
  {
   "cell_type": "code",
   "execution_count": null,
   "metadata": {},
   "outputs": [],
   "source": []
  },
  {
   "cell_type": "code",
   "execution_count": null,
   "metadata": {},
   "outputs": [],
   "source": []
  }
 ],
 "metadata": {
  "kernelspec": {
   "display_name": "Python 3",
   "language": "python",
   "name": "python3"
  },
  "language_info": {
   "codemirror_mode": {
    "name": "ipython",
    "version": 3
   },
   "file_extension": ".py",
   "mimetype": "text/x-python",
   "name": "python",
   "nbconvert_exporter": "python",
   "pygments_lexer": "ipython3",
   "version": "3.7.4"
  }
 },
 "nbformat": 4,
 "nbformat_minor": 2
}
